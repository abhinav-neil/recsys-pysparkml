{
 "cells": [
  {
   "cell_type": "markdown",
   "metadata": {
    "papermill": {
     "duration": 0.014954,
     "end_time": "2022-04-18T23:55:51.701308",
     "exception": false,
     "start_time": "2022-04-18T23:55:51.686354",
     "status": "completed"
    },
    "tags": []
   },
   "source": [
    "## Introduction\n",
    "A book recommender system using collaborative-filtering, built using PySpark.\n",
    "- Create spark session and load data into spark dataframe\n",
    "- Feature engineering\n",
    "    - Convert string cols to integer\n",
    "- Model\n",
    "    - Alternating Least Squares (ALS) model for collaborative filtering from Spark ML Lib\n",
    "    - Fit model to train set\n",
    "    - Predict on test set and evaluate root mean squared error (RMSE)\n",
    "- Generate recommendations\n",
    "    - Predict ratings on unrated books for each user, using fitted model\n",
    "    - Recommend top-n books"
   ]
  },
  {
   "cell_type": "code",
   "execution_count": 1,
   "metadata": {
    "execution": {
     "iopub.execute_input": "2022-04-18T23:55:51.732985Z",
     "iopub.status.busy": "2022-04-18T23:55:51.731987Z",
     "iopub.status.idle": "2022-04-18T23:56:42.466612Z",
     "shell.execute_reply": "2022-04-18T23:56:42.465723Z",
     "shell.execute_reply.started": "2022-04-15T11:16:33.227541Z"
    },
    "papermill": {
     "duration": 50.751477,
     "end_time": "2022-04-18T23:56:42.466817",
     "exception": false,
     "start_time": "2022-04-18T23:55:51.715340",
     "status": "completed"
    },
    "tags": []
   },
   "outputs": [
    {
     "name": "stdout",
     "output_type": "stream",
     "text": [
      "Collecting pyspark\r\n",
      "  Downloading pyspark-3.2.1.tar.gz (281.4 MB)\r\n",
      "\u001b[K     |████████████████████████████████| 281.4 MB 34 kB/s \r\n",
      "\u001b[?25hCollecting py4j==0.10.9.3\r\n",
      "  Downloading py4j-0.10.9.3-py2.py3-none-any.whl (198 kB)\r\n",
      "\u001b[K     |████████████████████████████████| 198 kB 28.2 MB/s \r\n",
      "\u001b[?25hBuilding wheels for collected packages: pyspark\r\n",
      "  Building wheel for pyspark (setup.py) ... \u001b[?25l-\b \b\\\b \b|\b \b/\b \b-\b \b\\\b \b|\b \b/\b \b-\b \b\\\b \b|\b \b/\b \b-\b \b\\\b \b|\b \b/\b \b-\b \b\\\b \b|\b \b/\b \b-\b \b\\\b \b|\b \b/\b \b-\b \b\\\b \b|\b \b/\b \b-\b \b\\\b \b|\b \b/\b \b-\b \b\\\b \b|\b \b/\b \b-\b \b\\\b \b|\b \b/\b \b-\b \b\\\b \b|\b \b/\b \b-\b \b\\\b \b|\b \b/\b \b-\b \b\\\b \b|\b \b/\b \b-\b \b\\\b \b|\b \b/\b \b-\b \b\\\b \b|\b \b/\b \b-\b \b\\\b \b|\b \b/\b \b-\b \b\\\b \b|\b \b/\b \b-\b \b\\\b \bdone\r\n",
      "\u001b[?25h  Created wheel for pyspark: filename=pyspark-3.2.1-py2.py3-none-any.whl size=281853644 sha256=df4d044b783fec92a8ce4070542244043d21257c2df65e92d34df72d191565d7\r\n",
      "  Stored in directory: /root/.cache/pip/wheels/9f/f5/07/7cd8017084dce4e93e84e92efd1e1d5334db05f2e83bcef74f\r\n",
      "Successfully built pyspark\r\n",
      "Installing collected packages: py4j, pyspark\r\n",
      "Successfully installed py4j-0.10.9.3 pyspark-3.2.1\r\n",
      "\u001b[33mWARNING: You are using pip version 20.1.1; however, version 22.0.4 is available.\r\n",
      "You should consider upgrading via the '/opt/conda/bin/python3.7 -m pip install --upgrade pip' command.\u001b[0m\r\n"
     ]
    }
   ],
   "source": [
    "# install pyspark\n",
    "!pip install pyspark"
   ]
  },
  {
   "cell_type": "markdown",
   "metadata": {
    "papermill": {
     "duration": 0.156839,
     "end_time": "2022-04-18T23:56:42.780789",
     "exception": false,
     "start_time": "2022-04-18T23:56:42.623950",
     "status": "completed"
    },
    "tags": []
   },
   "source": [
    "### Imports"
   ]
  },
  {
   "cell_type": "code",
   "execution_count": 2,
   "metadata": {
    "execution": {
     "iopub.execute_input": "2022-04-18T23:56:43.094169Z",
     "iopub.status.busy": "2022-04-18T23:56:43.093446Z",
     "iopub.status.idle": "2022-04-18T23:56:44.049835Z",
     "shell.execute_reply": "2022-04-18T23:56:44.049217Z",
     "shell.execute_reply.started": "2022-04-15T11:17:30.505775Z"
    },
    "papermill": {
     "duration": 1.117091,
     "end_time": "2022-04-18T23:56:44.049957",
     "exception": false,
     "start_time": "2022-04-18T23:56:42.932866",
     "status": "completed"
    },
    "tags": []
   },
   "outputs": [],
   "source": [
    "# core\n",
    "import numpy as np # linear algebra\n",
    "import pandas as pd # data processing, CSV file I/O (e.g. pd.read_csv)\n",
    "import matplotlib.pyplot as plt\n",
    "import sklearn\n",
    "import random, os\n",
    "# spark & ML\n",
    "from pyspark.sql import SparkSession, SQLContext\n",
    "from pyspark.sql.functions import col\n",
    "from pyspark.ml.feature import StringIndexer\n",
    "from pyspark.ml.recommendation import ALS\n",
    "from pyspark.ml.evaluation import RegressionEvaluator"
   ]
  },
  {
   "cell_type": "code",
   "execution_count": 3,
   "metadata": {
    "execution": {
     "iopub.execute_input": "2022-04-18T23:56:44.357420Z",
     "iopub.status.busy": "2022-04-18T23:56:44.356797Z",
     "iopub.status.idle": "2022-04-18T23:56:50.371875Z",
     "shell.execute_reply": "2022-04-18T23:56:50.371090Z",
     "shell.execute_reply.started": "2022-04-15T11:17:31.50887Z"
    },
    "papermill": {
     "duration": 6.171612,
     "end_time": "2022-04-18T23:56:50.372011",
     "exception": false,
     "start_time": "2022-04-18T23:56:44.200399",
     "status": "completed"
    },
    "tags": []
   },
   "outputs": [],
   "source": [
    "# create spark session\n",
    "spark = SparkSession.builder.appName('recsys').getOrCreate()"
   ]
  },
  {
   "cell_type": "markdown",
   "metadata": {
    "papermill": {
     "duration": 0.14977,
     "end_time": "2022-04-18T23:56:50.675241",
     "exception": false,
     "start_time": "2022-04-18T23:56:50.525471",
     "status": "completed"
    },
    "tags": []
   },
   "source": [
    "## Data and preprocessing"
   ]
  },
  {
   "cell_type": "code",
   "execution_count": 4,
   "metadata": {
    "execution": {
     "iopub.execute_input": "2022-04-18T23:56:50.995343Z",
     "iopub.status.busy": "2022-04-18T23:56:50.994281Z",
     "iopub.status.idle": "2022-04-18T23:56:59.299023Z",
     "shell.execute_reply": "2022-04-18T23:56:59.297925Z",
     "shell.execute_reply.started": "2022-04-15T11:17:37.221413Z"
    },
    "papermill": {
     "duration": 8.474366,
     "end_time": "2022-04-18T23:56:59.299215",
     "exception": false,
     "start_time": "2022-04-18T23:56:50.824849",
     "status": "completed"
    },
    "tags": []
   },
   "outputs": [
    {
     "name": "stdout",
     "output_type": "stream",
     "text": [
      "+-------+----------+-----------+\n",
      "|User-ID|      ISBN|Book-Rating|\n",
      "+-------+----------+-----------+\n",
      "| 276725|034545104X|          0|\n",
      "| 276726|0155061224|          5|\n",
      "| 276727|0446520802|          0|\n",
      "| 276729|052165615X|          3|\n",
      "| 276729|0521795028|          6|\n",
      "| 276733|2080674722|          0|\n",
      "| 276736|3257224281|          8|\n",
      "| 276737|0600570967|          6|\n",
      "| 276744|038550120X|          7|\n",
      "| 276745| 342310538|         10|\n",
      "| 276746|0425115801|          0|\n",
      "| 276746|0449006522|          0|\n",
      "| 276746|0553561618|          0|\n",
      "| 276746|055356451X|          0|\n",
      "| 276746|0786013990|          0|\n",
      "| 276746|0786014512|          0|\n",
      "| 276747|0060517794|          9|\n",
      "| 276747|0451192001|          0|\n",
      "| 276747|0609801279|          0|\n",
      "| 276747|0671537458|          9|\n",
      "+-------+----------+-----------+\n",
      "only showing top 20 rows\n",
      "\n"
     ]
    }
   ],
   "source": [
    "# load data into spark dataframe\n",
    "ratings_df = spark.read.csv('../input/books-dataset/books_data/ratings.csv', sep=';',\n",
    "                            inferSchema=True,header=True)\n",
    "ratings_df.show()"
   ]
  },
  {
   "cell_type": "code",
   "execution_count": 5,
   "metadata": {
    "execution": {
     "iopub.execute_input": "2022-04-18T23:56:59.676240Z",
     "iopub.status.busy": "2022-04-18T23:56:59.675193Z",
     "iopub.status.idle": "2022-04-18T23:56:59.691848Z",
     "shell.execute_reply": "2022-04-18T23:56:59.690912Z",
     "shell.execute_reply.started": "2022-04-15T11:17:44.287162Z"
    },
    "papermill": {
     "duration": 0.176468,
     "end_time": "2022-04-18T23:56:59.692018",
     "exception": false,
     "start_time": "2022-04-18T23:56:59.515550",
     "status": "completed"
    },
    "tags": []
   },
   "outputs": [
    {
     "name": "stdout",
     "output_type": "stream",
     "text": [
      "root\n",
      " |-- User-ID: integer (nullable = true)\n",
      " |-- ISBN: string (nullable = true)\n",
      " |-- Book-Rating: integer (nullable = true)\n",
      "\n"
     ]
    }
   ],
   "source": [
    "# show schema\n",
    "ratings_df.printSchema()"
   ]
  },
  {
   "cell_type": "code",
   "execution_count": 6,
   "metadata": {
    "execution": {
     "iopub.execute_input": "2022-04-18T23:57:00.028347Z",
     "iopub.status.busy": "2022-04-18T23:57:00.027391Z",
     "iopub.status.idle": "2022-04-18T23:57:02.129177Z",
     "shell.execute_reply": "2022-04-18T23:57:02.128191Z",
     "shell.execute_reply.started": "2022-04-15T15:29:09.202983Z"
    },
    "papermill": {
     "duration": 2.260289,
     "end_time": "2022-04-18T23:57:02.129345",
     "exception": false,
     "start_time": "2022-04-18T23:56:59.869056",
     "status": "completed"
    },
    "tags": []
   },
   "outputs": [
    {
     "name": "stdout",
     "output_type": "stream",
     "text": [
      "+----------+--------------------+--------------------+-------------------+--------------------+\n",
      "|      ISBN|          Book-Title|         Book-Author|Year-Of-Publication|           Publisher|\n",
      "+----------+--------------------+--------------------+-------------------+--------------------+\n",
      "|0195153448| Classical Mythology|  Mark P. O. Morford|               2002|Oxford University...|\n",
      "|0002005018|        Clara Callan|Richard Bruce Wright|               2001|HarperFlamingo Ca...|\n",
      "|0060973129|Decision in Normandy|        Carlo D'Este|               1991|     HarperPerennial|\n",
      "|0374157065|Flu: The Story of...|    Gina Bari Kolata|               1999|Farrar Straus Giroux|\n",
      "|0393045218|The Mummies of Ur...|     E. J. W. Barber|               1999|W. W. Norton &amp...|\n",
      "|0399135782|The Kitchen God's...|             Amy Tan|               1991|    Putnam Pub Group|\n",
      "|0425176428|What If?: The Wor...|       Robert Cowley|               2000|Berkley Publishin...|\n",
      "|0671870432|     PLEADING GUILTY|         Scott Turow|               1993|          Audioworks|\n",
      "|0679425608|Under the Black F...|     David Cordingly|               1996|        Random House|\n",
      "|074322678X|Where You'll Find...|         Ann Beattie|               2002|            Scribner|\n",
      "|0771074670|Nights Below Stat...|David Adams Richards|               1988|     Emblem Editions|\n",
      "|080652121X|Hitler's Secret B...|          Adam Lebor|               2000|       Citadel Press|\n",
      "|0887841740|  The Middle Stories|         Sheila Heti|               2004|House of Anansi P...|\n",
      "|1552041778|            Jane Doe|        R. J. Kaiser|               1999|          Mira Books|\n",
      "|1558746218|A Second Chicken ...|       Jack Canfield|               1998|Health Communicat...|\n",
      "|1567407781|The Witchfinder (...|   Loren D. Estleman|               1998|Brilliance Audio ...|\n",
      "|1575663937|More Cunning Than...|  Robert Hendrickson|               1999|Kensington Publis...|\n",
      "|1881320189|Goodbye to the Bu...|        Julia Oliver|               1994|      River City Pub|\n",
      "|0440234743|       The Testament|        John Grisham|               1999|                Dell|\n",
      "|0452264464|Beloved (Plume Co...|       Toni Morrison|               1994|               Plume|\n",
      "+----------+--------------------+--------------------+-------------------+--------------------+\n",
      "only showing top 20 rows\n",
      "\n"
     ]
    }
   ],
   "source": [
    "# load books data into spark dataframe\n",
    "books_df = spark.read.csv('../input/books-dataset/books_data/books.csv', sep=';', inferSchema=True, header=True)\n",
    "books_df = books_df.drop('Image-URL-S', 'Image-URL-M', 'Image-URL-L')\n",
    "books_df.show()"
   ]
  },
  {
   "cell_type": "code",
   "execution_count": 7,
   "metadata": {
    "execution": {
     "iopub.execute_input": "2022-04-18T23:57:02.558612Z",
     "iopub.status.busy": "2022-04-18T23:57:02.557849Z",
     "iopub.status.idle": "2022-04-18T23:57:11.116147Z",
     "shell.execute_reply": "2022-04-18T23:57:11.115192Z",
     "shell.execute_reply.started": "2022-04-15T11:17:45.859901Z"
    },
    "papermill": {
     "duration": 8.756342,
     "end_time": "2022-04-18T23:57:11.116331",
     "exception": false,
     "start_time": "2022-04-18T23:57:02.359989",
     "status": "completed"
    },
    "tags": []
   },
   "outputs": [
    {
     "name": "stdout",
     "output_type": "stream",
     "text": [
      "+-------+----------+-----------+--------+\n",
      "|User-ID|      ISBN|Book-Rating|ISBN_int|\n",
      "+-------+----------+-----------+--------+\n",
      "| 276725|034545104X|          0|  1637.0|\n",
      "| 276726|0155061224|          5| 89067.0|\n",
      "| 276727|0446520802|          0|   568.0|\n",
      "| 276729|052165615X|          3|205984.0|\n",
      "| 276729|0521795028|          6|206014.0|\n",
      "| 276733|2080674722|          0| 80774.0|\n",
      "| 276736|3257224281|          8| 43132.0|\n",
      "| 276737|0600570967|          6|216574.0|\n",
      "| 276744|038550120X|          7|   232.0|\n",
      "| 276745| 342310538|         10|135627.0|\n",
      "| 276746|0425115801|          0|   445.0|\n",
      "| 276746|0449006522|          0|   606.0|\n",
      "| 276746|0553561618|          0|   424.0|\n",
      "| 276746|055356451X|          0|   286.0|\n",
      "| 276746|0786013990|          0| 27579.0|\n",
      "| 276746|0786014512|          0| 15790.0|\n",
      "| 276747|0060517794|          9|  1413.0|\n",
      "| 276747|0451192001|          0|   937.0|\n",
      "| 276747|0609801279|          0|  6511.0|\n",
      "| 276747|0671537458|          9|   914.0|\n",
      "+-------+----------+-----------+--------+\n",
      "only showing top 20 rows\n",
      "\n"
     ]
    }
   ],
   "source": [
    "# convert string to int for ALS\n",
    "stringToInt = StringIndexer(inputCol='ISBN', outputCol='ISBN_int').fit(ratings_df)\n",
    "ratings_df = stringToInt.transform(ratings_df)\n",
    "ratings_df.show()"
   ]
  },
  {
   "cell_type": "code",
   "execution_count": 8,
   "metadata": {
    "execution": {
     "iopub.execute_input": "2022-04-18T23:57:11.540615Z",
     "iopub.status.busy": "2022-04-18T23:57:11.539522Z",
     "iopub.status.idle": "2022-04-18T23:57:11.571267Z",
     "shell.execute_reply": "2022-04-18T23:57:11.570346Z",
     "shell.execute_reply.started": "2022-04-15T11:17:56.277954Z"
    },
    "papermill": {
     "duration": 0.288927,
     "end_time": "2022-04-18T23:57:11.571453",
     "exception": false,
     "start_time": "2022-04-18T23:57:11.282526",
     "status": "completed"
    },
    "tags": []
   },
   "outputs": [],
   "source": [
    "# split data into training and test datatset\n",
    "train_df, test_df = ratings_df.randomSplit([0.8,0.2])"
   ]
  },
  {
   "cell_type": "markdown",
   "metadata": {
    "papermill": {
     "duration": 0.150197,
     "end_time": "2022-04-18T23:57:11.875717",
     "exception": false,
     "start_time": "2022-04-18T23:57:11.725520",
     "status": "completed"
    },
    "tags": []
   },
   "source": [
    "## Model"
   ]
  },
  {
   "cell_type": "code",
   "execution_count": 9,
   "metadata": {
    "execution": {
     "iopub.execute_input": "2022-04-18T23:57:12.179895Z",
     "iopub.status.busy": "2022-04-18T23:57:12.179267Z",
     "iopub.status.idle": "2022-04-18T23:59:07.981501Z",
     "shell.execute_reply": "2022-04-18T23:59:07.982441Z",
     "shell.execute_reply.started": "2022-04-15T11:17:56.277954Z"
    },
    "papermill": {
     "duration": 115.956866,
     "end_time": "2022-04-18T23:59:07.982727",
     "exception": false,
     "start_time": "2022-04-18T23:57:12.025861",
     "status": "completed"
    },
    "tags": []
   },
   "outputs": [],
   "source": [
    "# ALS model\n",
    "rec_model = ALS( maxIter=10 ,regParam=0.01,userCol='User-ID',itemCol='ISBN_int',ratingCol='Book-Rating', \n",
    "                nonnegative=True, coldStartStrategy=\"drop\")\n",
    "\n",
    "rec_model = rec_model.fit(train_df)"
   ]
  },
  {
   "cell_type": "code",
   "execution_count": 10,
   "metadata": {
    "execution": {
     "iopub.execute_input": "2022-04-18T23:59:08.315405Z",
     "iopub.status.busy": "2022-04-18T23:59:08.313609Z",
     "iopub.status.idle": "2022-04-18T23:59:08.536997Z",
     "shell.execute_reply": "2022-04-18T23:59:08.535641Z",
     "shell.execute_reply.started": "2022-04-15T11:19:45.919898Z"
    },
    "papermill": {
     "duration": 0.377204,
     "end_time": "2022-04-18T23:59:08.537177",
     "exception": false,
     "start_time": "2022-04-18T23:59:08.159973",
     "status": "completed"
    },
    "tags": []
   },
   "outputs": [],
   "source": [
    "# making predictions on test set \n",
    "predicted_ratings=rec_model.transform(test_df)"
   ]
  },
  {
   "cell_type": "markdown",
   "metadata": {
    "papermill": {
     "duration": 0.154038,
     "end_time": "2022-04-18T23:59:08.916004",
     "exception": false,
     "start_time": "2022-04-18T23:59:08.761966",
     "status": "completed"
    },
    "tags": []
   },
   "source": [
    "## Evaluation"
   ]
  },
  {
   "cell_type": "code",
   "execution_count": 11,
   "metadata": {
    "execution": {
     "iopub.execute_input": "2022-04-18T23:59:09.224526Z",
     "iopub.status.busy": "2022-04-18T23:59:09.223498Z",
     "iopub.status.idle": "2022-04-18T23:59:25.012644Z",
     "shell.execute_reply": "2022-04-18T23:59:25.013440Z",
     "shell.execute_reply.started": "2022-04-15T11:40:44.091208Z"
    },
    "papermill": {
     "duration": 15.947046,
     "end_time": "2022-04-18T23:59:25.013699",
     "exception": false,
     "start_time": "2022-04-18T23:59:09.066653",
     "status": "completed"
    },
    "tags": []
   },
   "outputs": [
    {
     "data": {
      "text/plain": [
       "4.742314506977701"
      ]
     },
     "execution_count": 11,
     "metadata": {},
     "output_type": "execute_result"
    }
   ],
   "source": [
    "# calculate RMSE\n",
    "evaluator = RegressionEvaluator(metricName='rmse', predictionCol='prediction',labelCol='Book-Rating')\n",
    "rmse = evaluator.evaluate(predicted_ratings)\n",
    "rmse"
   ]
  },
  {
   "cell_type": "markdown",
   "metadata": {
    "papermill": {
     "duration": 0.150713,
     "end_time": "2022-04-18T23:59:25.338723",
     "exception": false,
     "start_time": "2022-04-18T23:59:25.188010",
     "status": "completed"
    },
    "tags": []
   },
   "source": [
    "## Recommendation"
   ]
  },
  {
   "cell_type": "code",
   "execution_count": 12,
   "metadata": {
    "execution": {
     "iopub.execute_input": "2022-04-18T23:59:25.662548Z",
     "iopub.status.busy": "2022-04-18T23:59:25.661909Z",
     "iopub.status.idle": "2022-04-18T23:59:25.664773Z",
     "shell.execute_reply": "2022-04-18T23:59:25.664240Z",
     "shell.execute_reply.started": "2022-04-15T14:34:14.171728Z"
    },
    "papermill": {
     "duration": 0.164083,
     "end_time": "2022-04-18T23:59:25.664886",
     "exception": false,
     "start_time": "2022-04-18T23:59:25.500803",
     "status": "completed"
    },
    "tags": []
   },
   "outputs": [],
   "source": [
    "# function to recommend top-n books for a user using trained model\n",
    "def recommend_for_user(user_id, n):\n",
    "    ratings_user = ratings_df.filter(col('User-Id')==user_id)\n",
    "    pred_ratings_user = rec_model.transform(ratings_user.filter(col('Book-Rating')==0))\n",
    "    recs_user = books_df.join(pred_ratings_user.select(['ISBN', 'prediction']), on='ISBN')\n",
    "    recs_user = recs_user.sort('prediction', ascending=False).drop('prediction').limit(n)\n",
    "    return recs_user"
   ]
  },
  {
   "cell_type": "code",
   "execution_count": 13,
   "metadata": {
    "execution": {
     "iopub.execute_input": "2022-04-18T23:59:25.973949Z",
     "iopub.status.busy": "2022-04-18T23:59:25.973091Z",
     "iopub.status.idle": "2022-04-18T23:59:42.658323Z",
     "shell.execute_reply": "2022-04-18T23:59:42.657315Z",
     "shell.execute_reply.started": "2022-04-15T14:36:04.982456Z"
    },
    "papermill": {
     "duration": 16.843287,
     "end_time": "2022-04-18T23:59:42.658494",
     "exception": false,
     "start_time": "2022-04-18T23:59:25.815207",
     "status": "completed"
    },
    "tags": []
   },
   "outputs": [
    {
     "name": "stdout",
     "output_type": "stream",
     "text": [
      "+----------+--------------------+----------------+-------------------+----------------+\n",
      "|      ISBN|          Book-Title|     Book-Author|Year-Of-Publication|       Publisher|\n",
      "+----------+--------------------+----------------+-------------------+----------------+\n",
      "|0671873210|Tarnished Gold (L...|    V.C. Andrews|               1996|          Pocket|\n",
      "|0804117942|Spontaneous Heali...|Andrew Weil M.D.|               2000|Ballantine Books|\n",
      "|0671759345|       Ruby (Landry)|    V.C. Andrews|               1994|          Pocket|\n",
      "|0671670689|       Dawn (Cutler)|    V.C. Andrews|               1990|          Pocket|\n",
      "|0060915153|Why Do Clocks Run...|   David Feldman|               1988|       Perennial|\n",
      "+----------+--------------------+----------------+-------------------+----------------+\n",
      "\n"
     ]
    }
   ],
   "source": [
    "recs_user = recommend_for_user(31987, 5)\n",
    "recs_user.show()"
   ]
  }
 ],
 "metadata": {
  "kernelspec": {
   "display_name": "Python 3",
   "language": "python",
   "name": "python3"
  },
  "language_info": {
   "codemirror_mode": {
    "name": "ipython",
    "version": 3
   },
   "file_extension": ".py",
   "mimetype": "text/x-python",
   "name": "python",
   "nbconvert_exporter": "python",
   "pygments_lexer": "ipython3",
   "version": "3.7.6"
  },
  "papermill": {
   "duration": 235.507364,
   "end_time": "2022-04-18T23:59:42.932788",
   "environment_variables": {},
   "exception": null,
   "input_path": "__notebook__.ipynb",
   "output_path": "__notebook__.ipynb",
   "parameters": {},
   "start_time": "2022-04-18T23:55:47.425424",
   "version": "2.1.0"
  }
 },
 "nbformat": 4,
 "nbformat_minor": 4
}
