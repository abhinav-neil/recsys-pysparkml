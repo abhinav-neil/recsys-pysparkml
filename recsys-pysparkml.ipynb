{
 "cells": [
  {
   "cell_type": "markdown",
   "metadata": {
    "papermill": {
     "duration": 0.018595,
     "end_time": "2022-04-19T00:29:26.164168",
     "exception": false,
     "start_time": "2022-04-19T00:29:26.145573",
     "status": "completed"
    },
    "tags": []
   },
   "source": [
    "## Introduction\n",
    "A book recommender system using collaborative-filtering, built using PySpark.\n",
    "- Create spark session and load data into spark dataframe\n",
    "- Feature engineering\n",
    "    - Convert string cols to integer\n",
    "- Model\n",
    "    - Alternating Least Squares (ALS) model for collaborative filtering from Spark ML Lib\n",
    "    - Fit model to train set\n",
    "    - Predict on test set and evaluate root mean squared error (RMSE)\n",
    "- Generate recommendations\n",
    "    - Predict ratings on unrated books for each user, using fitted model\n",
    "    - Recommend top-n books"
   ]
  },
  {
   "cell_type": "code",
   "execution_count": 1,
   "metadata": {
    "execution": {
     "iopub.execute_input": "2022-04-19T00:29:26.202357Z",
     "iopub.status.busy": "2022-04-19T00:29:26.201195Z",
     "iopub.status.idle": "2022-04-19T00:30:33.850179Z",
     "shell.execute_reply": "2022-04-19T00:30:33.848675Z",
     "shell.execute_reply.started": "2022-04-15T11:16:33.227541Z"
    },
    "papermill": {
     "duration": 67.671825,
     "end_time": "2022-04-19T00:30:33.850475",
     "exception": false,
     "start_time": "2022-04-19T00:29:26.178650",
     "status": "completed"
    },
    "tags": []
   },
   "outputs": [
    {
     "name": "stdout",
     "output_type": "stream",
     "text": [
      "Collecting pyspark\r\n",
      "  Downloading pyspark-3.2.1.tar.gz (281.4 MB)\r\n",
      "\u001b[K     |████████████████████████████████| 281.4 MB 33 kB/s \r\n",
      "\u001b[?25hCollecting py4j==0.10.9.3\r\n",
      "  Downloading py4j-0.10.9.3-py2.py3-none-any.whl (198 kB)\r\n",
      "\u001b[K     |████████████████████████████████| 198 kB 35.3 MB/s \r\n",
      "\u001b[?25hBuilding wheels for collected packages: pyspark\r\n",
      "  Building wheel for pyspark (setup.py) ... \u001b[?25l-\b \b\\\b \b|\b \b/\b \b-\b \b\\\b \b|\b \b/\b \b-\b \b\\\b \b|\b \b/\b \b-\b \b\\\b \b|\b \b/\b \b-\b \b\\\b \b|\b \b/\b \b-\b \b\\\b \b|\b \b/\b \b-\b \b\\\b \b|\b \b/\b \b-\b \b\\\b \b|\b \b/\b \b-\b \b\\\b \b|\b \b/\b \b-\b \b\\\b \b|\b \b/\b \b-\b \b\\\b \b|\b \b/\b \b-\b \b\\\b \b|\b \b/\b \b-\b \b\\\b \b|\b \b/\b \b-\b \b\\\b \b|\b \b/\b \b-\b \b\\\b \b|\b \b/\b \b-\b \b\\\b \b|\b \b/\b \b-\b \b\\\b \b|\b \b/\b \b-\b \b\\\b \b|\b \b/\b \b-\b \b\\\b \b|\b \b/\b \b-\b \b\\\b \b|\b \b/\b \b-\b \b\\\b \bdone\r\n",
      "\u001b[?25h  Created wheel for pyspark: filename=pyspark-3.2.1-py2.py3-none-any.whl size=281853644 sha256=e9e7a901775e7510d1a7b879208748be830b2d71f530c8cfb42dadd69b82d2e6\r\n",
      "  Stored in directory: /root/.cache/pip/wheels/9f/f5/07/7cd8017084dce4e93e84e92efd1e1d5334db05f2e83bcef74f\r\n",
      "Successfully built pyspark\r\n",
      "Installing collected packages: py4j, pyspark\r\n",
      "Successfully installed py4j-0.10.9.3 pyspark-3.2.1\r\n",
      "\u001b[33mWARNING: You are using pip version 20.1.1; however, version 22.0.4 is available.\r\n",
      "You should consider upgrading via the '/opt/conda/bin/python3.7 -m pip install --upgrade pip' command.\u001b[0m\r\n"
     ]
    }
   ],
   "source": [
    "# install pyspark\n",
    "!pip install pyspark"
   ]
  },
  {
   "cell_type": "markdown",
   "metadata": {
    "papermill": {
     "duration": 0.235101,
     "end_time": "2022-04-19T00:30:34.325867",
     "exception": false,
     "start_time": "2022-04-19T00:30:34.090766",
     "status": "completed"
    },
    "tags": []
   },
   "source": [
    "### Imports"
   ]
  },
  {
   "cell_type": "code",
   "execution_count": 2,
   "metadata": {
    "execution": {
     "iopub.execute_input": "2022-04-19T00:30:34.808492Z",
     "iopub.status.busy": "2022-04-19T00:30:34.807720Z",
     "iopub.status.idle": "2022-04-19T00:30:35.927575Z",
     "shell.execute_reply": "2022-04-19T00:30:35.926993Z",
     "shell.execute_reply.started": "2022-04-15T11:17:30.505775Z"
    },
    "papermill": {
     "duration": 1.364717,
     "end_time": "2022-04-19T00:30:35.927707",
     "exception": false,
     "start_time": "2022-04-19T00:30:34.562990",
     "status": "completed"
    },
    "tags": []
   },
   "outputs": [],
   "source": [
    "# core\n",
    "import numpy as np # linear algebra\n",
    "import pandas as pd # data processing, CSV file I/O (e.g. pd.read_csv)\n",
    "import matplotlib.pyplot as plt\n",
    "import sklearn\n",
    "import random, os\n",
    "# spark & ML\n",
    "from pyspark.sql import SparkSession, SQLContext\n",
    "from pyspark.sql.functions import col\n",
    "from pyspark.ml.feature import StringIndexer\n",
    "from pyspark.ml.recommendation import ALS\n",
    "from pyspark.ml.evaluation import RegressionEvaluator"
   ]
  },
  {
   "cell_type": "code",
   "execution_count": 3,
   "metadata": {
    "execution": {
     "iopub.execute_input": "2022-04-19T00:30:36.423682Z",
     "iopub.status.busy": "2022-04-19T00:30:36.422925Z",
     "iopub.status.idle": "2022-04-19T00:30:43.194121Z",
     "shell.execute_reply": "2022-04-19T00:30:43.192634Z",
     "shell.execute_reply.started": "2022-04-15T11:17:31.50887Z"
    },
    "papermill": {
     "duration": 7.024807,
     "end_time": "2022-04-19T00:30:43.194355",
     "exception": false,
     "start_time": "2022-04-19T00:30:36.169548",
     "status": "completed"
    },
    "tags": []
   },
   "outputs": [],
   "source": [
    "# create spark session\n",
    "spark = SparkSession.builder.appName('recsys').getOrCreate()"
   ]
  },
  {
   "cell_type": "markdown",
   "metadata": {
    "papermill": {
     "duration": 0.232823,
     "end_time": "2022-04-19T00:30:43.678363",
     "exception": false,
     "start_time": "2022-04-19T00:30:43.445540",
     "status": "completed"
    },
    "tags": []
   },
   "source": [
    "## Data and preprocessing"
   ]
  },
  {
   "cell_type": "code",
   "execution_count": 4,
   "metadata": {
    "execution": {
     "iopub.execute_input": "2022-04-19T00:30:44.156659Z",
     "iopub.status.busy": "2022-04-19T00:30:44.155618Z",
     "iopub.status.idle": "2022-04-19T00:30:53.227229Z",
     "shell.execute_reply": "2022-04-19T00:30:53.228385Z",
     "shell.execute_reply.started": "2022-04-15T11:17:37.221413Z"
    },
    "papermill": {
     "duration": 9.31473,
     "end_time": "2022-04-19T00:30:53.228725",
     "exception": false,
     "start_time": "2022-04-19T00:30:43.913995",
     "status": "completed"
    },
    "tags": []
   },
   "outputs": [
    {
     "name": "stdout",
     "output_type": "stream",
     "text": [
      "+-------+----------+-----------+\n",
      "|User-ID|      ISBN|Book-Rating|\n",
      "+-------+----------+-----------+\n",
      "| 276725|034545104X|          0|\n",
      "| 276726|0155061224|          5|\n",
      "| 276727|0446520802|          0|\n",
      "| 276729|052165615X|          3|\n",
      "| 276729|0521795028|          6|\n",
      "| 276733|2080674722|          0|\n",
      "| 276736|3257224281|          8|\n",
      "| 276737|0600570967|          6|\n",
      "| 276744|038550120X|          7|\n",
      "| 276745| 342310538|         10|\n",
      "| 276746|0425115801|          0|\n",
      "| 276746|0449006522|          0|\n",
      "| 276746|0553561618|          0|\n",
      "| 276746|055356451X|          0|\n",
      "| 276746|0786013990|          0|\n",
      "| 276746|0786014512|          0|\n",
      "| 276747|0060517794|          9|\n",
      "| 276747|0451192001|          0|\n",
      "| 276747|0609801279|          0|\n",
      "| 276747|0671537458|          9|\n",
      "+-------+----------+-----------+\n",
      "only showing top 20 rows\n",
      "\n"
     ]
    }
   ],
   "source": [
    "# load data into spark dataframe\n",
    "ratings_df = spark.read.csv('../input/books-dataset/books_data/ratings.csv', sep=';',\n",
    "                            inferSchema=True,header=True)\n",
    "ratings_df.show()"
   ]
  },
  {
   "cell_type": "code",
   "execution_count": 5,
   "metadata": {
    "execution": {
     "iopub.execute_input": "2022-04-19T00:30:53.738077Z",
     "iopub.status.busy": "2022-04-19T00:30:53.737240Z",
     "iopub.status.idle": "2022-04-19T00:30:53.756070Z",
     "shell.execute_reply": "2022-04-19T00:30:53.754797Z",
     "shell.execute_reply.started": "2022-04-15T11:17:44.287162Z"
    },
    "papermill": {
     "duration": 0.268399,
     "end_time": "2022-04-19T00:30:53.756227",
     "exception": false,
     "start_time": "2022-04-19T00:30:53.487828",
     "status": "completed"
    },
    "tags": []
   },
   "outputs": [
    {
     "name": "stdout",
     "output_type": "stream",
     "text": [
      "root\n",
      " |-- User-ID: integer (nullable = true)\n",
      " |-- ISBN: string (nullable = true)\n",
      " |-- Book-Rating: integer (nullable = true)\n",
      "\n"
     ]
    }
   ],
   "source": [
    "# show schema\n",
    "ratings_df.printSchema()"
   ]
  },
  {
   "cell_type": "code",
   "execution_count": 6,
   "metadata": {
    "execution": {
     "iopub.execute_input": "2022-04-19T00:30:54.232133Z",
     "iopub.status.busy": "2022-04-19T00:30:54.231351Z",
     "iopub.status.idle": "2022-04-19T00:30:56.516642Z",
     "shell.execute_reply": "2022-04-19T00:30:56.515667Z",
     "shell.execute_reply.started": "2022-04-15T15:29:09.202983Z"
    },
    "papermill": {
     "duration": 2.521305,
     "end_time": "2022-04-19T00:30:56.516849",
     "exception": false,
     "start_time": "2022-04-19T00:30:53.995544",
     "status": "completed"
    },
    "tags": []
   },
   "outputs": [
    {
     "name": "stdout",
     "output_type": "stream",
     "text": [
      "+----------+--------------------+--------------------+-------------------+--------------------+\n",
      "|      ISBN|          Book-Title|         Book-Author|Year-Of-Publication|           Publisher|\n",
      "+----------+--------------------+--------------------+-------------------+--------------------+\n",
      "|0195153448| Classical Mythology|  Mark P. O. Morford|               2002|Oxford University...|\n",
      "|0002005018|        Clara Callan|Richard Bruce Wright|               2001|HarperFlamingo Ca...|\n",
      "|0060973129|Decision in Normandy|        Carlo D'Este|               1991|     HarperPerennial|\n",
      "|0374157065|Flu: The Story of...|    Gina Bari Kolata|               1999|Farrar Straus Giroux|\n",
      "|0393045218|The Mummies of Ur...|     E. J. W. Barber|               1999|W. W. Norton &amp...|\n",
      "|0399135782|The Kitchen God's...|             Amy Tan|               1991|    Putnam Pub Group|\n",
      "|0425176428|What If?: The Wor...|       Robert Cowley|               2000|Berkley Publishin...|\n",
      "|0671870432|     PLEADING GUILTY|         Scott Turow|               1993|          Audioworks|\n",
      "|0679425608|Under the Black F...|     David Cordingly|               1996|        Random House|\n",
      "|074322678X|Where You'll Find...|         Ann Beattie|               2002|            Scribner|\n",
      "|0771074670|Nights Below Stat...|David Adams Richards|               1988|     Emblem Editions|\n",
      "|080652121X|Hitler's Secret B...|          Adam Lebor|               2000|       Citadel Press|\n",
      "|0887841740|  The Middle Stories|         Sheila Heti|               2004|House of Anansi P...|\n",
      "|1552041778|            Jane Doe|        R. J. Kaiser|               1999|          Mira Books|\n",
      "|1558746218|A Second Chicken ...|       Jack Canfield|               1998|Health Communicat...|\n",
      "|1567407781|The Witchfinder (...|   Loren D. Estleman|               1998|Brilliance Audio ...|\n",
      "|1575663937|More Cunning Than...|  Robert Hendrickson|               1999|Kensington Publis...|\n",
      "|1881320189|Goodbye to the Bu...|        Julia Oliver|               1994|      River City Pub|\n",
      "|0440234743|       The Testament|        John Grisham|               1999|                Dell|\n",
      "|0452264464|Beloved (Plume Co...|       Toni Morrison|               1994|               Plume|\n",
      "+----------+--------------------+--------------------+-------------------+--------------------+\n",
      "only showing top 20 rows\n",
      "\n"
     ]
    }
   ],
   "source": [
    "# load books data into spark dataframe\n",
    "books_df = spark.read.csv('../input/books-dataset/books_data/books.csv', sep=';', inferSchema=True, header=True)\n",
    "books_df = books_df.drop('Image-URL-S', 'Image-URL-M', 'Image-URL-L')\n",
    "books_df.show()"
   ]
  },
  {
   "cell_type": "code",
   "execution_count": 7,
   "metadata": {
    "execution": {
     "iopub.execute_input": "2022-04-19T00:30:57.042073Z",
     "iopub.status.busy": "2022-04-19T00:30:57.040822Z",
     "iopub.status.idle": "2022-04-19T00:31:06.538388Z",
     "shell.execute_reply": "2022-04-19T00:31:06.537566Z",
     "shell.execute_reply.started": "2022-04-15T11:17:45.859901Z"
    },
    "papermill": {
     "duration": 9.74291,
     "end_time": "2022-04-19T00:31:06.538577",
     "exception": false,
     "start_time": "2022-04-19T00:30:56.795667",
     "status": "completed"
    },
    "tags": []
   },
   "outputs": [
    {
     "name": "stdout",
     "output_type": "stream",
     "text": [
      "+-------+----------+-----------+--------+\n",
      "|User-ID|      ISBN|Book-Rating|ISBN_int|\n",
      "+-------+----------+-----------+--------+\n",
      "| 276725|034545104X|          0|  1637.0|\n",
      "| 276726|0155061224|          5| 89067.0|\n",
      "| 276727|0446520802|          0|   568.0|\n",
      "| 276729|052165615X|          3|205984.0|\n",
      "| 276729|0521795028|          6|206014.0|\n",
      "| 276733|2080674722|          0| 80774.0|\n",
      "| 276736|3257224281|          8| 43132.0|\n",
      "| 276737|0600570967|          6|216574.0|\n",
      "| 276744|038550120X|          7|   232.0|\n",
      "| 276745| 342310538|         10|135627.0|\n",
      "| 276746|0425115801|          0|   445.0|\n",
      "| 276746|0449006522|          0|   606.0|\n",
      "| 276746|0553561618|          0|   424.0|\n",
      "| 276746|055356451X|          0|   286.0|\n",
      "| 276746|0786013990|          0| 27579.0|\n",
      "| 276746|0786014512|          0| 15790.0|\n",
      "| 276747|0060517794|          9|  1413.0|\n",
      "| 276747|0451192001|          0|   937.0|\n",
      "| 276747|0609801279|          0|  6511.0|\n",
      "| 276747|0671537458|          9|   914.0|\n",
      "+-------+----------+-----------+--------+\n",
      "only showing top 20 rows\n",
      "\n"
     ]
    }
   ],
   "source": [
    "# convert string to int for ALS\n",
    "stringToInt = StringIndexer(inputCol='ISBN', outputCol='ISBN_int').fit(ratings_df)\n",
    "ratings_df = stringToInt.transform(ratings_df)\n",
    "ratings_df.show()"
   ]
  },
  {
   "cell_type": "code",
   "execution_count": 8,
   "metadata": {
    "execution": {
     "iopub.execute_input": "2022-04-19T00:31:07.183137Z",
     "iopub.status.busy": "2022-04-19T00:31:07.181922Z",
     "iopub.status.idle": "2022-04-19T00:31:07.212858Z",
     "shell.execute_reply": "2022-04-19T00:31:07.212213Z",
     "shell.execute_reply.started": "2022-04-15T11:17:56.277954Z"
    },
    "papermill": {
     "duration": 0.299453,
     "end_time": "2022-04-19T00:31:07.213006",
     "exception": false,
     "start_time": "2022-04-19T00:31:06.913553",
     "status": "completed"
    },
    "tags": []
   },
   "outputs": [],
   "source": [
    "# split data into training and test datatset\n",
    "train_df, test_df = ratings_df.randomSplit([0.8,0.2])"
   ]
  },
  {
   "cell_type": "markdown",
   "metadata": {
    "papermill": {
     "duration": 0.230037,
     "end_time": "2022-04-19T00:31:07.672464",
     "exception": false,
     "start_time": "2022-04-19T00:31:07.442427",
     "status": "completed"
    },
    "tags": []
   },
   "source": [
    "## Model"
   ]
  },
  {
   "cell_type": "code",
   "execution_count": 9,
   "metadata": {
    "execution": {
     "iopub.execute_input": "2022-04-19T00:31:08.141503Z",
     "iopub.status.busy": "2022-04-19T00:31:08.140668Z",
     "iopub.status.idle": "2022-04-19T00:33:19.861514Z",
     "shell.execute_reply": "2022-04-19T00:33:19.862915Z",
     "shell.execute_reply.started": "2022-04-15T11:17:56.277954Z"
    },
    "papermill": {
     "duration": 131.959738,
     "end_time": "2022-04-19T00:33:19.863433",
     "exception": false,
     "start_time": "2022-04-19T00:31:07.903695",
     "status": "completed"
    },
    "tags": []
   },
   "outputs": [],
   "source": [
    "# ALS model\n",
    "rec_model = ALS( maxIter=10 ,regParam=0.01,userCol='User-ID',itemCol='ISBN_int',ratingCol='Book-Rating', \n",
    "                nonnegative=True, coldStartStrategy=\"drop\")\n",
    "\n",
    "rec_model = rec_model.fit(train_df)"
   ]
  },
  {
   "cell_type": "code",
   "execution_count": 10,
   "metadata": {
    "execution": {
     "iopub.execute_input": "2022-04-19T00:33:20.388875Z",
     "iopub.status.busy": "2022-04-19T00:33:20.387862Z",
     "iopub.status.idle": "2022-04-19T00:33:20.648109Z",
     "shell.execute_reply": "2022-04-19T00:33:20.646534Z",
     "shell.execute_reply.started": "2022-04-15T11:19:45.919898Z"
    },
    "papermill": {
     "duration": 0.5049,
     "end_time": "2022-04-19T00:33:20.648305",
     "exception": false,
     "start_time": "2022-04-19T00:33:20.143405",
     "status": "completed"
    },
    "tags": []
   },
   "outputs": [],
   "source": [
    "# making predictions on test set \n",
    "predicted_ratings=rec_model.transform(test_df)"
   ]
  },
  {
   "cell_type": "markdown",
   "metadata": {
    "papermill": {
     "duration": 0.231643,
     "end_time": "2022-04-19T00:33:21.125950",
     "exception": false,
     "start_time": "2022-04-19T00:33:20.894307",
     "status": "completed"
    },
    "tags": []
   },
   "source": [
    "## Evaluation"
   ]
  },
  {
   "cell_type": "code",
   "execution_count": 11,
   "metadata": {
    "execution": {
     "iopub.execute_input": "2022-04-19T00:33:21.599485Z",
     "iopub.status.busy": "2022-04-19T00:33:21.598754Z",
     "iopub.status.idle": "2022-04-19T00:33:40.485137Z",
     "shell.execute_reply": "2022-04-19T00:33:40.486034Z",
     "shell.execute_reply.started": "2022-04-15T11:40:44.091208Z"
    },
    "papermill": {
     "duration": 19.126323,
     "end_time": "2022-04-19T00:33:40.486258",
     "exception": false,
     "start_time": "2022-04-19T00:33:21.359935",
     "status": "completed"
    },
    "tags": []
   },
   "outputs": [
    {
     "data": {
      "text/plain": [
       "4.786251090711702"
      ]
     },
     "execution_count": 11,
     "metadata": {},
     "output_type": "execute_result"
    }
   ],
   "source": [
    "# calculate RMSE\n",
    "evaluator = RegressionEvaluator(metricName='rmse', predictionCol='prediction',labelCol='Book-Rating')\n",
    "rmse = evaluator.evaluate(predicted_ratings)\n",
    "rmse"
   ]
  },
  {
   "cell_type": "markdown",
   "metadata": {
    "papermill": {
     "duration": 0.237815,
     "end_time": "2022-04-19T00:33:40.994233",
     "exception": false,
     "start_time": "2022-04-19T00:33:40.756418",
     "status": "completed"
    },
    "tags": []
   },
   "source": [
    "## Recommendation"
   ]
  },
  {
   "cell_type": "code",
   "execution_count": 12,
   "metadata": {
    "execution": {
     "iopub.execute_input": "2022-04-19T00:33:41.477131Z",
     "iopub.status.busy": "2022-04-19T00:33:41.476370Z",
     "iopub.status.idle": "2022-04-19T00:33:41.478452Z",
     "shell.execute_reply": "2022-04-19T00:33:41.479021Z",
     "shell.execute_reply.started": "2022-04-15T14:34:14.171728Z"
    },
    "papermill": {
     "duration": 0.24581,
     "end_time": "2022-04-19T00:33:41.479199",
     "exception": false,
     "start_time": "2022-04-19T00:33:41.233389",
     "status": "completed"
    },
    "tags": []
   },
   "outputs": [],
   "source": [
    "# function to recommend top-n books for a user using trained model\n",
    "def recommend_for_user(user_id, n):\n",
    "    ratings_user = ratings_df.filter(col('User-Id')==user_id)\n",
    "    pred_ratings_user = rec_model.transform(ratings_user.filter(col('Book-Rating')==0))\n",
    "    recs_user = books_df.join(pred_ratings_user.select(['ISBN', 'prediction']), on='ISBN')\n",
    "    recs_user = recs_user.sort('prediction', ascending=False).drop('prediction').limit(n)\n",
    "    return recs_user"
   ]
  },
  {
   "cell_type": "code",
   "execution_count": 13,
   "metadata": {
    "execution": {
     "iopub.execute_input": "2022-04-19T00:33:41.955209Z",
     "iopub.status.busy": "2022-04-19T00:33:41.954427Z",
     "iopub.status.idle": "2022-04-19T00:34:01.904941Z",
     "shell.execute_reply": "2022-04-19T00:34:01.903258Z",
     "shell.execute_reply.started": "2022-04-15T14:36:04.982456Z"
    },
    "papermill": {
     "duration": 20.187863,
     "end_time": "2022-04-19T00:34:01.905187",
     "exception": false,
     "start_time": "2022-04-19T00:33:41.717324",
     "status": "completed"
    },
    "tags": []
   },
   "outputs": [
    {
     "name": "stdout",
     "output_type": "stream",
     "text": [
      "+----------+--------------------+----------------+-------------------+------------------+\n",
      "|      ISBN|          Book-Title|     Book-Author|Year-Of-Publication|         Publisher|\n",
      "+----------+--------------------+----------------+-------------------+------------------+\n",
      "|0060915153|Why Do Clocks Run...|   David Feldman|               1988|         Perennial|\n",
      "|0872169464|       Nice Girls Do|  Irene Kassorla|               1982|Playboy Paperbacks|\n",
      "|0380710722|It's Always Somet...|    Gilda Radner|               1990|              Avon|\n",
      "|0804117942|Spontaneous Heali...|Andrew Weil M.D.|               2000|  Ballantine Books|\n",
      "|0671670689|       Dawn (Cutler)|    V.C. Andrews|               1990|            Pocket|\n",
      "+----------+--------------------+----------------+-------------------+------------------+\n",
      "\n"
     ]
    }
   ],
   "source": [
    "recs_user = recommend_for_user(31987, 5)\n",
    "recs_user.show()"
   ]
  }
 ],
 "metadata": {
  "kernelspec": {
   "display_name": "Python 3",
   "language": "python",
   "name": "python3"
  },
  "language_info": {
   "codemirror_mode": {
    "name": "ipython",
    "version": 3
   },
   "file_extension": ".py",
   "mimetype": "text/x-python",
   "name": "python",
   "nbconvert_exporter": "python",
   "pygments_lexer": "ipython3",
   "version": "3.7.6"
  },
  "papermill": {
   "duration": 280.903201,
   "end_time": "2022-04-19T00:34:02.356521",
   "environment_variables": {},
   "exception": null,
   "input_path": "__notebook__.ipynb",
   "output_path": "__notebook__.ipynb",
   "parameters": {},
   "start_time": "2022-04-19T00:29:21.453320",
   "version": "2.1.0"
  }
 },
 "nbformat": 4,
 "nbformat_minor": 4
}
